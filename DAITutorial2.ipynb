{
  "nbformat": 4,
  "nbformat_minor": 0,
  "metadata": {
    "colab": {
      "provenance": [],
      "authorship_tag": "ABX9TyNiGzjU03cB8c8LE7Tuq6A7",
      "include_colab_link": true
    },
    "kernelspec": {
      "name": "python3",
      "display_name": "Python 3"
    },
    "language_info": {
      "name": "python"
    }
  },
  "cells": [
    {
      "cell_type": "markdown",
      "metadata": {
        "id": "view-in-github",
        "colab_type": "text"
      },
      "source": [
        "<a href=\"https://colab.research.google.com/github/ashishdeshp4nde/DSA-/blob/main/DAITutorial2.ipynb\" target=\"_parent\"><img src=\"https://colab.research.google.com/assets/colab-badge.svg\" alt=\"Open In Colab\"/></a>"
      ]
    },
    {
      "cell_type": "code",
      "execution_count": null,
      "metadata": {
        "id": "31WeTKU76FAJ"
      },
      "outputs": [],
      "source": [
        "import pandas as pd\n",
        "import numpy as np\n",
        "import matplotlib.pyplot as plt\n",
        "import seaborn as sns\n",
        "from sklearn.model_selection import train_test_split\n",
        "from sklearn.linear_model import LinearRegression, Ridge, Lasso\n",
        "from sklearn.tree import DecisionTreeRegressor\n",
        "from sklearn.ensemble import RandomForestRegressor\n",
        "from sklearn.svm import SVR\n",
        "from sklearn.neighbors import KNeighborsRegressor\n",
        "from sklearn.metrics import r2_score, mean_absolute_error, mean_squared_error\n",
        "from statsmodels.stats.diagnostic import linear_rainbow\n",
        "import statsmodels.api as sm\n",
        "\n",
        "# Load dataset\n",
        "df = pd.read_csv(\"/content/tips (data for regression problem).csv\")\n",
        "print(df.head())\n",
        "\n",
        "# Data Preprocessing\n",
        "df['is_male'] = df['sex'].apply(lambda x: 0 if x == 'Male' else 1)\n",
        "df['smoking_status'] = df['smoker'].apply(lambda x: 1 if x == 'Yes' else 0)\n",
        "df['day_label'] = df['day'].astype('category').cat.codes\n",
        "df['meal_period'] = df['time'].map({'Lunch': 0, 'Dinner': 1})\n",
        "df.drop(['sex', 'smoker', 'day', 'time'], axis=1, inplace=True)\n",
        "\n",
        "# Pair plot and heatmap with modified color scheme\n",
        "sns.pairplot(df)\n",
        "plt.suptitle(\"Feature Pair Plot\", y=1.02)\n",
        "plt.show()\n",
        "\n",
        "plt.figure(figsize=(10, 8))\n",
        "sns.heatmap(df.corr(), annot=True, cmap=\"coolwarm\", fmt=\".2f\")\n",
        "plt.title(\"Correlation Matrix Heatmap\")\n",
        "plt.show()\n",
        "\n",
        "# Linearity Check: Rainbow Test\n",
        "features = df[['total_bill', 'size', 'is_male', 'smoking_status', 'day_label', 'meal_period']]\n",
        "target = df['tip']\n",
        "features_with_const = sm.add_constant(features)\n",
        "model = sm.OLS(target, features_with_const).fit()\n",
        "rainbow_stat, rainbow_p_val = linear_rainbow(model)\n",
        "print(f\"Rainbow Test Statistic: {rainbow_stat:.4f}, p-value: {rainbow_p_val:.4f}\")\n",
        "\n",
        "# Residual Plot with updated line color\n",
        "plt.figure(figsize=(8, 6))\n",
        "sns.residplot(x=model.fittedvalues, y=model.resid, lowess=True, line_kws={'color': 'blue'})\n",
        "plt.title(\"Residuals vs. Fitted Values\")\n",
        "plt.xlabel(\"Fitted Values\")\n",
        "plt.ylabel(\"Residuals\")\n",
        "plt.axhline(0, color='gray', linestyle='--')\n",
        "plt.show()\n",
        "\n",
        "# Split data into training and test sets\n",
        "X_train_data, X_test_data, y_train_data, y_test_data = train_test_split(features, target, test_size=0.2, random_state=42)\n",
        "\n",
        "# Define and fit models\n",
        "model_dict = {\n",
        "    \"Linear Regression\": LinearRegression(),\n",
        "    \"Ridge\": Ridge(alpha=1.0),\n",
        "    \"Lasso\": Lasso(alpha=0.1),\n",
        "    \"Decision Tree Regressor\": DecisionTreeRegressor(),\n",
        "    \"Random Forest Regressor\": RandomForestRegressor(n_estimators=100, random_state=0),\n",
        "    \"SVR\": SVR(kernel='rbf'),\n",
        "    \"KNN Regressor\": KNeighborsRegressor(n_neighbors=5)\n",
        "}\n",
        "\n",
        "# Store model evaluation metrics\n",
        "evaluation_results = []\n",
        "for model_name, model in model_dict.items():\n",
        "    model.fit(X_train_data, y_train_data)\n",
        "    predictions = model.predict(X_test_data)\n",
        "    r2 = r2_score(y_test_data, predictions)\n",
        "    mae = mean_absolute_error(y_test_data, predictions)\n",
        "    mse = mean_squared_error(y_test_data, predictions)\n",
        "    evaluation_results.append({\n",
        "        \"Model\": model_name,\n",
        "        \"R² Score\": r2,\n",
        "        \"MAE\": mae,\n",
        "        \"MSE\": mse\n",
        "    })\n",
        "\n",
        "# Display results\n",
        "results_frame = pd.DataFrame(evaluation_results).sort_values(by=\"R² Score\", ascending=False)\n",
        "print(results_frame)\n",
        "\n",
        "# Identify the best model based on R² Score\n",
        "top_model = results_frame.iloc[0][\"Model\"]\n",
        "print(f\"\\nThe model with the highest R² Score is: {top_model}\")\n"
      ]
    },
    {
      "cell_type": "markdown",
      "source": [],
      "metadata": {
        "id": "800AQgI76JGv"
      }
    }
  ]
}